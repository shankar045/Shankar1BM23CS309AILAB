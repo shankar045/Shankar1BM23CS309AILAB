{
  "nbformat": 4,
  "nbformat_minor": 0,
  "metadata": {
    "colab": {
      "provenance": [],
      "authorship_tag": "ABX9TyM8TNIv09RN6HznAXo+adIS",
      "include_colab_link": true
    },
    "kernelspec": {
      "name": "python3",
      "display_name": "Python 3"
    },
    "language_info": {
      "name": "python"
    }
  },
  "cells": [
    {
      "cell_type": "markdown",
      "metadata": {
        "id": "view-in-github",
        "colab_type": "text"
      },
      "source": [
        "<a href=\"https://colab.research.google.com/github/shankar045/Shankar1BM23CS309AILAB/blob/main/WEEK6_Prapositional_logic.ipynb\" target=\"_parent\"><img src=\"https://colab.research.google.com/assets/colab-badge.svg\" alt=\"Open In Colab\"/></a>"
      ]
    },
    {
      "cell_type": "code",
      "execution_count": 2,
      "metadata": {
        "colab": {
          "base_uri": "https://localhost:8080/"
        },
        "id": "_4i0rAFc7RMJ",
        "outputId": "de4d6746-9791-4173-ef74-8e8ba307e867"
      },
      "outputs": [
        {
          "output_type": "stream",
          "name": "stdout",
          "text": [
            "shankar,1  BM23CS309\n",
            "Does KB ⊨ α ? True\n"
          ]
        }
      ],
      "source": [
        "print(\"shankar,1  BM23CS309\")\n",
        "import itertools\n",
        "import re\n",
        "\n",
        "# ------------------------------\n",
        "# Helper: evaluate logical sentence\n",
        "# ------------------------------\n",
        "\n",
        "def pl_true(expr, model):\n",
        "    \"\"\"\n",
        "    Evaluate a propositional logic expression in a given model.\n",
        "    expr: string with symbols and logical operators (¬, ∧, ∨, →, ↔)\n",
        "    model: dictionary mapping symbols to True/False\n",
        "    \"\"\"\n",
        "\n",
        "    # Replace symbols with their truth values\n",
        "    for sym, val in model.items():\n",
        "        expr = re.sub(rf'\\b{sym}\\b', str(val), expr)\n",
        "\n",
        "    # Replace logical symbols with Python equivalents\n",
        "    expr = expr.replace(\"¬\", \" not \")\n",
        "    expr = expr.replace(\"∧\", \" and \")\n",
        "    expr = expr.replace(\"∨\", \" or \")\n",
        "    expr = expr.replace(\"→\", \" <= \")  # Temporary marker\n",
        "    expr = expr.replace(\"↔\", \" == \")\n",
        "\n",
        "    # Handle implication P → Q = (not P) or Q\n",
        "    while \"<=\" in expr:\n",
        "        expr = re.sub(r'(True|False)\\s*<=\\s*(True|False)',\n",
        "                      lambda m: str((not eval(m.group(1))) or eval(m.group(2))),\n",
        "                      expr)\n",
        "\n",
        "    # Final evaluation\n",
        "    return eval(expr)\n",
        "\n",
        "\n",
        "# ------------------------------\n",
        "# Truth Table Checking\n",
        "# ------------------------------\n",
        "\n",
        "def tt_entails(KB, alpha, symbols):\n",
        "    return tt_check_all(KB, alpha, symbols, {})\n",
        "\n",
        "def tt_check_all(KB, alpha, symbols, model):\n",
        "    if not symbols:  # No more symbols → full model\n",
        "        if pl_true(KB, model):\n",
        "            return pl_true(alpha, model)\n",
        "        else:\n",
        "            return True\n",
        "    else:\n",
        "        P = symbols[0]\n",
        "        rest = symbols[1:]\n",
        "        return (tt_check_all(KB, alpha, rest, {**model, P: True}) and\n",
        "                tt_check_all(KB, alpha, rest, {**model, P: False}))\n",
        "\n",
        "\n",
        "# ------------------------------\n",
        "# Example Run\n",
        "# ------------------------------\n",
        "\n",
        "# Knowledge Base and Query\n",
        "KB = \"(A ∨ B) ∧ (¬C)\"\n",
        "alpha = \"A ∨ (B ∧ ¬C)\"\n",
        "\n",
        "# Symbols in our formulas\n",
        "symbols = [\"A\", \"B\", \"C\"]\n",
        "\n",
        "result = tt_entails(KB, alpha, symbols)\n",
        "print(\"Does KB ⊨ α ?\", result)\n"
      ]
    }
  ]
}