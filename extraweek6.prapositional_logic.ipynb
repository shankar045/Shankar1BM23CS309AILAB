{
  "nbformat": 4,
  "nbformat_minor": 0,
  "metadata": {
    "colab": {
      "provenance": [],
      "authorship_tag": "ABX9TyP4bST9fjeOm4Qf/znOcGqC",
      "include_colab_link": true
    },
    "kernelspec": {
      "name": "python3",
      "display_name": "Python 3"
    },
    "language_info": {
      "name": "python"
    }
  },
  "cells": [
    {
      "cell_type": "markdown",
      "metadata": {
        "id": "view-in-github",
        "colab_type": "text"
      },
      "source": [
        "<a href=\"https://colab.research.google.com/github/shankar045/Shankar1BM23CS309AILAB/blob/main/extraweek6.prapositional_logic.ipynb\" target=\"_parent\"><img src=\"https://colab.research.google.com/assets/colab-badge.svg\" alt=\"Open In Colab\"/></a>"
      ]
    },
    {
      "cell_type": "code",
      "execution_count": 5,
      "metadata": {
        "colab": {
          "base_uri": "https://localhost:8080/"
        },
        "id": "_4i0rAFc7RMJ",
        "outputId": "1830a9f1-9b8b-432c-e715-014f82774388"
      },
      "outputs": [
        {
          "output_type": "stream",
          "name": "stdout",
          "text": [
            "\n",
            "Truth Table for (A ∨ B) ∧ (¬C) ⊨ A ∨ (B ∧ ¬C):\n",
            "True\tTrue\tTrue\t| False \t| True\n",
            "True\tTrue\tFalse\t| True \t| True\n",
            "True\tFalse\tTrue\t| False \t| True\n",
            "True\tFalse\tFalse\t| True \t| True\n",
            "False\tTrue\tTrue\t| False \t| False\n",
            "False\tTrue\tFalse\t| True \t| True\n",
            "False\tFalse\tTrue\t| False \t| False\n",
            "False\tFalse\tFalse\t| False \t| False\n",
            "Does KB ⊨ α? True\n"
          ]
        }
      ],
      "source": [
        "import itertools\n",
        "import re\n",
        "\n",
        "# ------------------------------\n",
        "# Helper: evaluate logical sentence\n",
        "# ------------------------------\n",
        "\n",
        "def pl_true(expr, model):\n",
        "    \"\"\"\n",
        "    Evaluate a propositional logic expression in a given model.\n",
        "    expr: string with symbols and logical operators (¬, ∧, ∨, →, ↔)\n",
        "    model: dictionary mapping symbols to True/False\n",
        "    \"\"\"\n",
        "\n",
        "    # Replace symbols with their truth values\n",
        "    for sym, val in model.items():\n",
        "        expr = re.sub(rf'\\b{sym}\\b', str(val), expr)\n",
        "\n",
        "    # Replace logical symbols with Python equivalents\n",
        "    expr = expr.replace(\"¬\", \" not \")\n",
        "    expr = expr.replace(\"∧\", \" and \")\n",
        "    expr = expr.replace(\"∨\", \" or \")\n",
        "    expr = expr.replace(\"→\", \" <= \")  # Temporary marker\n",
        "    expr = expr.replace(\"↔\", \" == \")\n",
        "\n",
        "    # Handle implication P → Q = (not P) or Q\n",
        "    while \"<=\" in expr:\n",
        "        expr = re.sub(r'(True|False)\\s*<=\\s*(True|False)',\n",
        "                      lambda m: str((not eval(m.group(1))) or eval(m.group(2))),\n",
        "                      expr)\n",
        "\n",
        "    # Final evaluation\n",
        "    return eval(expr)\n",
        "\n",
        "# ------------------------------\n",
        "# Truth Table Checking\n",
        "# ------------------------------\n",
        "\n",
        "def tt_entails(KB, alpha, symbols):\n",
        "    print(f\"\\nTruth Table for {KB} ⊨ {alpha}:\")\n",
        "    result = tt_check_all(KB, alpha, symbols, {}, True)\n",
        "    return result\n",
        "\n",
        "def tt_check_all(KB, alpha, symbols, model, print_table=False):\n",
        "    if not symbols:  # No more symbols → full model\n",
        "        # Evaluate KB and α for the current model\n",
        "        kb_val = pl_true(KB, model)\n",
        "        alpha_val = pl_true(alpha, model)\n",
        "\n",
        "        # Print truth table row\n",
        "        if print_table:\n",
        "            row = [f\"{model.get(sym, False)}\" for sym in sorted(model.keys())]\n",
        "            print(\"\\t\".join(row) + f\"\\t| {kb_val} \\t| {alpha_val}\")\n",
        "\n",
        "        # Check if KB entails α\n",
        "        if kb_val:\n",
        "            return alpha_val\n",
        "        else:\n",
        "            return True\n",
        "    else:\n",
        "        P = symbols[0]\n",
        "        rest = symbols[1:]\n",
        "        return (tt_check_all(KB, alpha, rest, {**model, P: True}, print_table) and\n",
        "                tt_check_all(KB, alpha, rest, {**model, P: False}, print_table))\n",
        "\n",
        "# ------------------------------\n",
        "# Example Run\n",
        "# ------------------------------\n",
        "\n",
        "# Knowledge Base and Query\n",
        "KB = \"(A ∨ B) ∧ (¬C)\"\n",
        "alpha = \"A ∨ (B ∧ ¬C)\"\n",
        "\n",
        "# Symbols in our formulas\n",
        "symbols = [\"A\", \"B\", \"C\"]\n",
        "\n",
        "# Run and print truth table\n",
        "result = tt_entails(KB, alpha, symbols)\n",
        "print(\"Does KB ⊨ α?\", result)\n"
      ]
    }
  ]
}