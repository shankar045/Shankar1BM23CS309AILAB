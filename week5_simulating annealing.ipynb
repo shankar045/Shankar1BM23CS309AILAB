{
  "nbformat": 4,
  "nbformat_minor": 0,
  "metadata": {
    "colab": {
      "provenance": [],
      "authorship_tag": "ABX9TyOITjhr6ezRplo8qTtT1fSX",
      "include_colab_link": true
    },
    "kernelspec": {
      "name": "python3",
      "display_name": "Python 3"
    },
    "language_info": {
      "name": "python"
    }
  },
  "cells": [
    {
      "cell_type": "markdown",
      "metadata": {
        "id": "view-in-github",
        "colab_type": "text"
      },
      "source": [
        "<a href=\"https://colab.research.google.com/github/shankar045/Shankar1BM23CS309AILAB/blob/main/week5_simulating%20annealing.ipynb\" target=\"_parent\"><img src=\"https://colab.research.google.com/assets/colab-badge.svg\" alt=\"Open In Colab\"/></a>"
      ]
    },
    {
      "cell_type": "code",
      "execution_count": 3,
      "metadata": {
        "colab": {
          "base_uri": "https://localhost:8080/"
        },
        "id": "_4i0rAFc7RMJ",
        "outputId": "0d5eed35-0f17-4756-f578-0b9581a8d2d0"
      },
      "outputs": [
        {
          "output_type": "stream",
          "name": "stdout",
          "text": [
            "Shankar,1BM23CS309\n",
            "Best solution found: x = -1.306439965159843\n",
            "Objective function value: -7.945823375615272\n"
          ]
        }
      ],
      "source": [
        "print(\"Shankar,1BM23CS309\")\n",
        "import math\n",
        "import random\n",
        "\n",
        "# Example objective function (you can replace this with any function)\n",
        "# Let's say we want to minimize f(x) = x^2 + 10*sin(x)\n",
        "def objective_function(x):\n",
        "    return x**2 + 10 * math.sin(x)\n",
        "\n",
        "# Simulated Annealing\n",
        "def simulated_annealing(objective, bounds, max_iterations, initial_temp, cooling_rate):\n",
        "    # Random initial solution\n",
        "    current = random.uniform(bounds[0], bounds[1])\n",
        "    current_energy = objective(current)\n",
        "\n",
        "    # Best found solution\n",
        "    best = current\n",
        "    best_energy = current_energy\n",
        "\n",
        "    temp = initial_temp\n",
        "\n",
        "    for i in range(max_iterations):\n",
        "        # New candidate solution (neighbor)\n",
        "        candidate = current + random.uniform(-1, 1)  # small random move\n",
        "        candidate = max(min(candidate, bounds[1]), bounds[0])  # keep inside bounds\n",
        "        candidate_energy = objective(candidate)\n",
        "\n",
        "        # Energy difference\n",
        "        delta_e = candidate_energy - current_energy\n",
        "\n",
        "        # Accept candidate if better OR with probability exp(-ΔE/T)\n",
        "        if delta_e < 0 or random.random() < math.exp(-delta_e / temp):\n",
        "            current, current_energy = candidate, candidate_energy\n",
        "\n",
        "            # Check for new best\n",
        "            if current_energy < best_energy:\n",
        "                best, best_energy = current, current_energy\n",
        "\n",
        "        # Decrease temperature\n",
        "        temp = temp * cooling_rate\n",
        "\n",
        "        # Debug: print iteration progress\n",
        "        # print(f\"Iter {i}, Temp={temp:.4f}, Best={best:.4f}, Energy={best_energy:.4f}\")\n",
        "\n",
        "    return best, best_energy\n",
        "\n",
        "# ------------------------------\n",
        "# Example Run\n",
        "# ------------------------------\n",
        "\n",
        "bounds = [-10, 10]          # search space for x\n",
        "max_iterations = 1000       # number of iterations\n",
        "initial_temp = 100.0        # starting temperature\n",
        "cooling_rate = 0.99         # cooling rate (0.8 - 0.99 is typical)\n",
        "\n",
        "best_solution, best_value = simulated_annealing(objective_function, bounds,\n",
        "                                                max_iterations, initial_temp, cooling_rate)\n",
        "\n",
        "print(\"Best solution found: x =\", best_solution)\n",
        "print(\"Objective function value:\", best_value)\n"
      ]
    }
  ]
}