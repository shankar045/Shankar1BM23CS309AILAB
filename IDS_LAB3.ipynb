{
  "nbformat": 4,
  "nbformat_minor": 0,
  "metadata": {
    "colab": {
      "provenance": [],
      "authorship_tag": "ABX9TyNcQL03OqbDPW3SLl2+UMEW",
      "include_colab_link": true
    },
    "kernelspec": {
      "name": "python3",
      "display_name": "Python 3"
    },
    "language_info": {
      "name": "python"
    }
  },
  "cells": [
    {
      "cell_type": "markdown",
      "metadata": {
        "id": "view-in-github",
        "colab_type": "text"
      },
      "source": [
        "<a href=\"https://colab.research.google.com/github/shankar045/Shankar1BM23CS309AILAB/blob/main/IDS_LAB3.ipynb\" target=\"_parent\"><img src=\"https://colab.research.google.com/assets/colab-badge.svg\" alt=\"Open In Colab\"/></a>"
      ]
    },
    {
      "cell_type": "code",
      "execution_count": 1,
      "metadata": {
        "colab": {
          "base_uri": "https://localhost:8080/"
        },
        "id": "UtPJ4VbZzIZ4",
        "outputId": "8d65d12c-781c-4620-bffe-c4b75300a7cd"
      },
      "outputs": [
        {
          "output_type": "stream",
          "name": "stdout",
          "text": [
            "Solution found in 5 moves:\n",
            "\n",
            "2 8 3\n",
            "1 6 4\n",
            "7   5\n",
            "\n",
            "2 8 3\n",
            "1   4\n",
            "7 6 5\n",
            "\n",
            "2   3\n",
            "1 8 4\n",
            "7 6 5\n",
            "\n",
            "  2 3\n",
            "1 8 4\n",
            "7 6 5\n",
            "\n",
            "1 2 3\n",
            "  8 4\n",
            "7 6 5\n",
            "\n",
            "1 2 3\n",
            "8   4\n",
            "7 6 5\n",
            "\n"
          ]
        }
      ],
      "source": [
        "goal_state = ((1, 2, 3),\n",
        "              (8, 0, 4),\n",
        "              (7, 6, 5))\n",
        "\n",
        "moves = [(-1, 0), (1, 0), (0, -1), (0, 1)]\n",
        "\n",
        "def get_blank_pos(state):\n",
        "    for i in range(3):\n",
        "        for j in range(3):\n",
        "            if state[i][j] == 0:\n",
        "                return i, j\n",
        "\n",
        "def swap_tiles(state, pos1, pos2):\n",
        "    state_list = [list(row) for row in state]\n",
        "    x1, y1 = pos1\n",
        "    x2, y2 = pos2\n",
        "    state_list[x1][y1], state_list[x2][y2] = state_list[x2][y2], state_list[x1][y1]\n",
        "    return tuple(tuple(row) for row in state_list)\n",
        "\n",
        "def get_neighbors(state):\n",
        "    neighbors = []\n",
        "    x, y = get_blank_pos(state)\n",
        "    for dx, dy in moves:\n",
        "        nx, ny = x + dx, y + dy\n",
        "        if 0 <= nx < 3 and 0 <= ny < 3:\n",
        "            neighbors.append(swap_tiles(state, (x, y), (nx, ny)))\n",
        "    return neighbors\n",
        "\n",
        "def dls(state, goal, limit, visited, path):\n",
        "    if state == goal:\n",
        "        return path + [state]\n",
        "    if limit <= 0:\n",
        "        return None\n",
        "    visited.add(state)\n",
        "    for neighbor in get_neighbors(state):\n",
        "        if neighbor not in visited:\n",
        "            result = dls(neighbor, goal, limit - 1, visited, path + [state])\n",
        "            if result is not None:\n",
        "                return result\n",
        "    visited.remove(state)\n",
        "    return None\n",
        "\n",
        "def iterative_deepening(start, goal, max_depth=50):\n",
        "    for depth in range(max_depth):\n",
        "        visited = set()\n",
        "        result = dls(start, goal, depth, visited, [])\n",
        "        if result is not None:\n",
        "            return result\n",
        "    return None\n",
        "\n",
        "def print_state(state):\n",
        "    for row in state:\n",
        "        print(' '.join(str(x) if x != 0 else ' ' for x in row))\n",
        "    print()\n",
        "\n",
        "if __name__ == \"__main__\":\n",
        "    start = ((2, 8, 3),\n",
        "             (1, 6, 4),\n",
        "             (7, 0, 5))\n",
        "\n",
        "    solution = iterative_deepening(start, goal_state)\n",
        "\n",
        "    if solution:\n",
        "        print(f\"Solution found in {len(solution) - 1} moves:\\n\")\n",
        "        for step in solution:\n",
        "            print_state(step)\n",
        "    else:\n",
        "        print(\"No solution found within depth limit.\")\n"
      ]
    }
  ]
}