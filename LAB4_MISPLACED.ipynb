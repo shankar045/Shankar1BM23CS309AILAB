{
  "nbformat": 4,
  "nbformat_minor": 0,
  "metadata": {
    "colab": {
      "provenance": [],
      "authorship_tag": "ABX9TyPx0NgSpNeFjxtvqBY2fReG",
      "include_colab_link": true
    },
    "kernelspec": {
      "name": "python3",
      "display_name": "Python 3"
    },
    "language_info": {
      "name": "python"
    }
  },
  "cells": [
    {
      "cell_type": "markdown",
      "metadata": {
        "id": "view-in-github",
        "colab_type": "text"
      },
      "source": [
        "<a href=\"https://colab.research.google.com/github/shankar045/Shankar1BM23CS309AILAB/blob/main/LAB4_MISPLACED.ipynb\" target=\"_parent\"><img src=\"https://colab.research.google.com/assets/colab-badge.svg\" alt=\"Open In Colab\"/></a>"
      ]
    },
    {
      "cell_type": "code",
      "execution_count": 2,
      "metadata": {
        "colab": {
          "base_uri": "https://localhost:8080/"
        },
        "id": "kq93B0Qm0fwH",
        "outputId": "36f7ee4e-ae8d-4469-fa34-44064916a094"
      },
      "outputs": [
        {
          "output_type": "stream",
          "name": "stdout",
          "text": [
            "Shankar.1BM23CS309\n"
          ]
        }
      ],
      "source": [
        "import heapq\n",
        "print(\"Shankar.1BM23CS309\")\n",
        "def misplaced_tiles(state, goal):\n",
        "    count = 0\n",
        "    for i in range(3):\n",
        "        for j in range(3):\n",
        "            if state[i][j] != goal[i][j] and state[i][j] != 0:\n",
        "                count += 1\n",
        "    return count\n",
        "\n",
        "def get_neighbors(state):\n",
        "    neighbors = []\n",
        "    for i in range(3):\n",
        "        for j in range(3):\n",
        "            if state[i][j] == 0:\n",
        "                x, y = i, j\n",
        "                break\n",
        "        else:\n",
        "            continue\n",
        "        break\n",
        "\n",
        "    moves = [(0, 1), (0, -1), (1, 0), (-1, 0)]\n",
        "    for dx, dy in moves:\n",
        "        nx, ny = x + dx, y + dy\n",
        "        if 0 <= nx < 3 and 0 <= ny < 3:\n",
        "            new_state = [list(row) for row in state]\n",
        "            new_state[x][y], new_state[nx][ny] = new_state[nx][ny], new_state[x][y]\n",
        "            neighbors.append(tuple(tuple(row) for row in new_state))\n",
        "    return neighbors\n",
        "\n",
        "def astar_search(initial, goal):\n",
        "    frontier = [(misplaced_tiles(initial, goal), 0, initial)]\n",
        "    explored = set()\n",
        "    parent = {}\n",
        "    cost = {initial: 0}\n",
        "\n",
        "    while frontier:\n",
        "        f, g, current = heapq.heappop(frontier)\n",
        "\n",
        "        if current == goal:\n",
        "            path = []\n",
        "            while current in parent:\n",
        "                path.append(current)\n",
        "                current = parent[current]\n",
        "            path.append(initial)\n",
        "            return path[::-1]\n",
        "\n",
        "        explored.add(current)\n",
        "\n",
        "        for neighbor in get_neighbors(current):\n",
        "            new_cost = cost[current] + 1\n",
        "            if neighbor not in cost or new_cost < cost[neighbor]:\n",
        "                cost[neighbor] = new_cost\n",
        "                priority = new_cost + misplaced_tiles(neighbor, goal)\n",
        "                heapq.heappush(frontier, (priority, new_cost, neighbor))\n",
        "                parent[neighbor] = current\n",
        "    return None"
      ]
    }
  ]
}