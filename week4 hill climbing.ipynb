{
  "nbformat": 4,
  "nbformat_minor": 0,
  "metadata": {
    "colab": {
      "provenance": [],
      "authorship_tag": "ABX9TyO/e/vGC4YFmhS4QZa9wT+t",
      "include_colab_link": true
    },
    "kernelspec": {
      "name": "python3",
      "display_name": "Python 3"
    },
    "language_info": {
      "name": "python"
    }
  },
  "cells": [
    {
      "cell_type": "markdown",
      "metadata": {
        "id": "view-in-github",
        "colab_type": "text"
      },
      "source": [
        "<a href=\"https://colab.research.google.com/github/shankar045/Shankar1BM23CS309AILAB/blob/main/week4%20hill%20climbing.ipynb\" target=\"_parent\"><img src=\"https://colab.research.google.com/assets/colab-badge.svg\" alt=\"Open In Colab\"/></a>"
      ]
    },
    {
      "cell_type": "code",
      "execution_count": 2,
      "metadata": {
        "colab": {
          "base_uri": "https://localhost:8080/"
        },
        "id": "TMiiE4Dt0JhF",
        "outputId": "5a08f621-fbf8-407c-91db-06c492a760f0"
      },
      "outputs": [
        {
          "output_type": "stream",
          "name": "stdout",
          "text": [
            "Initial board: [0, 3, 3, 1] with conflicts: 2\n",
            "Board: [1, 3, 3, 1] with conflicts: 4\n",
            "Board: [2, 3, 3, 1] with conflicts: 3\n",
            "Board: [3, 3, 3, 1] with conflicts: 4\n",
            "Board: [0, 0, 3, 1] with conflicts: 1\n",
            "Board: [0, 1, 3, 1] with conflicts: 2\n",
            "Board: [0, 2, 3, 1] with conflicts: 1\n",
            "Board: [0, 3, 3, 1] with conflicts: 2\n",
            "Board: [0, 3, 0, 1] with conflicts: 3\n",
            "Board: [0, 3, 1, 1] with conflicts: 2\n",
            "Board: [0, 3, 2, 1] with conflicts: 4\n",
            "Board: [0, 3, 3, 1] with conflicts: 2\n",
            "Board: [0, 3, 3, 0] with conflicts: 2\n",
            "Board: [0, 3, 3, 1] with conflicts: 2\n",
            "Board: [0, 3, 3, 2] with conflicts: 2\n",
            "Board: [0, 3, 3, 3] with conflicts: 4\n",
            "Board: [1, 0, 3, 1] with conflicts: 3\n",
            "Board: [2, 0, 3, 1] with conflicts: 0\n",
            "Board: [3, 0, 3, 1] with conflicts: 1\n",
            "Board: [0, 1, 3, 1] with conflicts: 2\n",
            "Board: [0, 2, 3, 1] with conflicts: 1\n",
            "Board: [0, 3, 3, 1] with conflicts: 2\n",
            "Board: [0, 0, 0, 1] with conflicts: 4\n",
            "Board: [0, 0, 1, 1] with conflicts: 3\n",
            "Board: [0, 0, 2, 1] with conflicts: 3\n",
            "Board: [0, 0, 3, 1] with conflicts: 1\n",
            "Board: [0, 0, 3, 0] with conflicts: 3\n",
            "Board: [0, 0, 3, 1] with conflicts: 1\n",
            "Board: [0, 0, 3, 2] with conflicts: 3\n",
            "Board: [0, 0, 3, 3] with conflicts: 3\n",
            "Final solution: [2, 0, 3, 1]\n"
          ]
        }
      ],
      "source": [
        "import random\n",
        "\n",
        "def create_board():\n",
        "    return [random.randint(0, 3) for _ in range(4)]\n",
        "\n",
        "def calculate_conflicts(board):\n",
        "    conflicts = 0\n",
        "    for i in range(4):\n",
        "        for j in range(i + 1, 4):\n",
        "            if board[i] == board[j] or abs(board[i] - board[j]) == j - i:\n",
        "                conflicts += 1\n",
        "    return conflicts\n",
        "\n",
        "def hill_climbing():\n",
        "    board = create_board()\n",
        "    print(f\"Initial board: {board} with conflicts: {calculate_conflicts(board)}\")\n",
        "\n",
        "    while True:\n",
        "        current_conflicts = calculate_conflicts(board)\n",
        "        if current_conflicts == 0:\n",
        "            return board\n",
        "        next_board = None\n",
        "        next_conflicts = float('inf')\n",
        "        for i in range(4):\n",
        "            temp_board = board[:]\n",
        "            for j in range(4):\n",
        "                if temp_board[i] != j:\n",
        "                    temp_board[i] = j\n",
        "                    temp_conflicts = calculate_conflicts(temp_board)\n",
        "                    print(f\"Board: {temp_board} with conflicts: {temp_conflicts}\")\n",
        "                    if temp_conflicts < next_conflicts:\n",
        "                        next_conflicts = temp_conflicts\n",
        "                        next_board = temp_board[:]\n",
        "        if next_conflicts >= current_conflicts:\n",
        "            return board\n",
        "        board = next_board\n",
        "\n",
        "solution = hill_climbing()\n",
        "print(f\"Final solution: {solution}\")"
      ]
    }
  ]
}